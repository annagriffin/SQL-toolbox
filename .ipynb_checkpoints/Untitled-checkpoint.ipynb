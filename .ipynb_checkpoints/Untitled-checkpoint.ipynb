{
 "cells": [
  {
   "cell_type": "code",
   "execution_count": 2,
   "metadata": {},
   "outputs": [],
   "source": [
    "import requests\n",
    "from bs4 import BeautifulSoup\n",
    "import sqlite3"
   ]
  },
  {
   "cell_type": "code",
   "execution_count": 3,
   "metadata": {},
   "outputs": [],
   "source": [
    "# creating the soup\n",
    "\n",
    "url_to_scrape = 'http://quotes.toscrape.com/'\n",
    "html_text = requests.get(url_to_scrape)\n",
    "soup = BeautifulSoup(html_text.text, \"html.parser\")"
   ]
  },
  {
   "cell_type": "code",
   "execution_count": null,
   "metadata": {},
   "outputs": [],
   "source": [
    "# view soup using prettify\n",
    "\n",
    "print(soup.prettify())"
   ]
  },
  {
   "cell_type": "code",
   "execution_count": 4,
   "metadata": {},
   "outputs": [],
   "source": [
    "# each quote is contained within a div with the class \"quote\"\n",
    "# using find_all which will return a list of each div and its\n",
    "# children that has the class \"quote\"\n",
    "\n",
    "quotes = soup.find_all(\"div\", { \"class\":\"quote\" })"
   ]
  },
  {
   "cell_type": "code",
   "execution_count": 44,
   "metadata": {},
   "outputs": [
    {
     "name": "stdout",
     "output_type": "stream",
     "text": [
      "<div class=\"quote\" itemscope=\"\" itemtype=\"http://schema.org/CreativeWork\">\n",
      "<span class=\"text\" itemprop=\"text\">“The world as we have created it is a process of our thinking. It cannot be changed without changing our thinking.”</span>\n",
      "<span>by <small class=\"author\" itemprop=\"author\">Albert Einstein</small>\n",
      "<a href=\"/author/Albert-Einstein\">(about)</a>\n",
      "</span>\n",
      "<div class=\"tags\">\n",
      "            Tags:\n",
      "            <meta class=\"keywords\" content=\"change,deep-thoughts,thinking,world\" itemprop=\"keywords\">\n",
      "<a class=\"tag\" href=\"/tag/change/page/1/\">change</a>\n",
      "<a class=\"tag\" href=\"/tag/deep-thoughts/page/1/\">deep-thoughts</a>\n",
      "<a class=\"tag\" href=\"/tag/thinking/page/1/\">thinking</a>\n",
      "<a class=\"tag\" href=\"/tag/world/page/1/\">world</a>\n",
      "</meta></div>\n",
      "</div>\n"
     ]
    }
   ],
   "source": [
    "# view a single quote\n",
    "\n",
    "print(quotes[0])"
   ]
  },
  {
   "cell_type": "markdown",
   "metadata": {},
   "source": [
    "<h3> Example: One Quote </h3>"
   ]
  },
  {
   "cell_type": "code",
   "execution_count": 5,
   "metadata": {},
   "outputs": [],
   "source": [
    "quote = quotes[0]\n",
    "\n",
    "\n",
    "# get text and author by identifying html tags and classes\n",
    "\n",
    "text = quote.find(\"span\", \"text\").text\n",
    "author = quote.find(\"small\", \"author\").text\n",
    "\n",
    "# get author about url by finding a tags and getting the\n",
    "# value of the \"href\" attribute\n",
    "\n",
    "author_about = quote.find(\"a\")[\"href\"]\n",
    "\n",
    "\n",
    "# find the section that contains the tags and extract each one\n",
    "# by looking at its children\n",
    "\n",
    "\n",
    "tags = quote.find(\"meta\", \"keywords\").text.strip()\n",
    "tags = tags.replace(\"\\n\", ',')"
   ]
  },
  {
   "cell_type": "code",
   "execution_count": null,
   "metadata": {},
   "outputs": [],
   "source": [
    "print(\"text:\", text, \"\\n\")\n",
    "print(\"author:\", author, \"\\n\")\n",
    "print(\"author about address:\", author_about, \"\\n\")\n",
    "print(\"tags: \", tags)"
   ]
  },
  {
   "cell_type": "markdown",
   "metadata": {},
   "source": [
    "### Creating the database"
   ]
  },
  {
   "cell_type": "code",
   "execution_count": 6,
   "metadata": {},
   "outputs": [
    {
     "name": "stdout",
     "output_type": "stream",
     "text": [
      "opened database successfully\n"
     ]
    }
   ],
   "source": [
    "conn = sqlite3.connect('my_database.db')\n",
    "cur = conn.cursor()\n",
    "print(\"opened database successfully\")"
   ]
  },
  {
   "cell_type": "code",
   "execution_count": 37,
   "metadata": {},
   "outputs": [
    {
     "data": {
      "text/plain": [
       "<sqlite3.Cursor at 0x7f3da05f8e30>"
      ]
     },
     "execution_count": 37,
     "metadata": {},
     "output_type": "execute_result"
    }
   ],
   "source": [
    "cur.execute('''DROP TABLE IF EXISTS quotes''')"
   ]
  },
  {
   "cell_type": "code",
   "execution_count": 38,
   "metadata": {},
   "outputs": [
    {
     "data": {
      "text/plain": [
       "<sqlite3.Cursor at 0x7f3da05f8e30>"
      ]
     },
     "execution_count": 38,
     "metadata": {},
     "output_type": "execute_result"
    }
   ],
   "source": [
    "cur.execute('''CREATE TABLE quotes (\n",
    "    id INTEGER PRIMARY KEY,\n",
    "    text TEXT,\n",
    "    author TEXT,\n",
    "    author_about TEXT,\n",
    "    tags TEXT\n",
    "    )''')"
   ]
  },
  {
   "cell_type": "code",
   "execution_count": 39,
   "metadata": {},
   "outputs": [
    {
     "name": "stdout",
     "output_type": "stream",
     "text": [
      "None\n"
     ]
    }
   ],
   "source": [
    "# nothing in the quotes table yet\n",
    "\n",
    "cur.execute('''SELECT * FROM quotes''')\n",
    "print(cur.fetchone())"
   ]
  },
  {
   "cell_type": "code",
   "execution_count": 45,
   "metadata": {},
   "outputs": [
    {
     "name": "stdout",
     "output_type": "stream",
     "text": [
      "INSERT INTO quotes (text, author, author_about, tags) VALUES ('“The world as we have created it is a process of our thinking. It cannot be changed without changing our thinking.”','Albert Einstein','/author/Albert-Einstein','change,deep-thoughts,thinking,world')\n"
     ]
    }
   ],
   "source": [
    "# lets add the example quote we just extracted\n",
    "\n",
    "# f string formatting to build the sql command\n",
    "query = f\"INSERT INTO quotes (text, author, author_about, tags) VALUES ('{text}','{author}','{author_about}','{tags}')\"\n",
    "print(query)\n",
    "cur.execute(query)  # executing the sql\n",
    "conn.commit()       # commiting the change"
   ]
  },
  {
   "cell_type": "code",
   "execution_count": 42,
   "metadata": {},
   "outputs": [
    {
     "name": "stdout",
     "output_type": "stream",
     "text": [
      "(1, '“The world as we have created it is a process of our thinking. It cannot be changed without changing our thinking.”', 'Albert Einstein', '/author/Albert-Einstein', 'change,deep-thoughts,thinking,world')\n",
      "(2, '“It is our choices, Harry, that show what we truly are, far more than our abilities.”', 'J.K. Rowling', '/author/J-K-Rowling', 'abilities,choices')\n",
      "(3, '“There are only two ways to live your life. One is as though nothing is a miracle. The other is as though everything is a miracle.”', 'Albert Einstein', '/author/Albert-Einstein', 'inspirational,life,live,miracle,miracles')\n",
      "(4, '“The person, be it gentleman or lady, who has not pleasure in a good novel, must be intolerably stupid.”', 'Jane Austen', '/author/Jane-Austen', 'aliteracy,books,classic,humor')\n"
     ]
    }
   ],
   "source": [
    "select_command = f'SELECT * FROM quotes'\n",
    "cur.execute(select_command)\n",
    "results = cur.fetchall()\n",
    "for each in results:\n",
    "    print(each)"
   ]
  },
  {
   "cell_type": "markdown",
   "metadata": {},
   "source": [
    "### Now we can write a function that loops through each quote from our `quotes` list and inserts and commits them"
   ]
  },
  {
   "cell_type": "code",
   "execution_count": 40,
   "metadata": {},
   "outputs": [],
   "source": [
    "def createQuery(content):\n",
    "    \n",
    "    \n",
    "    # from above block\n",
    "    text = quote.find(\"span\", \"text\").text\n",
    "    author = quote.find(\"small\", \"author\").text\n",
    "\n",
    "    author_about = quote.find(\"a\")[\"href\"]\n",
    "\n",
    "    tags = quote.find(\"meta\", \"keywords\").text.strip()\n",
    "    tags = tags.replace(\"\\n\", ',')\n",
    "    \n",
    "    query = f\"INSERT INTO quotes (text, author, author_about, tags) VALUES ('{text}','{author}','{author_about}','{tags}')\"\n",
    "    return query"
   ]
  },
  {
   "cell_type": "code",
   "execution_count": 47,
   "metadata": {},
   "outputs": [
    {
     "name": "stdout",
     "output_type": "stream",
     "text": [
      "INSERT INTO quotes (text, author, author_about, tags) VALUES ('“The world as we have created it is a process of our thinking. It cannot be changed without changing our thinking.”','Albert Einstein','/author/Albert-Einstein','change,deep-thoughts,thinking,world')\n",
      "INSERT INTO quotes (text, author, author_about, tags) VALUES ('“It is our choices, Harry, that show what we truly are, far more than our abilities.”','J.K. Rowling','/author/J-K-Rowling','abilities,choices')\n",
      "INSERT INTO quotes (text, author, author_about, tags) VALUES ('“There are only two ways to live your life. One is as though nothing is a miracle. The other is as though everything is a miracle.”','Albert Einstein','/author/Albert-Einstein','inspirational,life,live,miracle,miracles')\n",
      "INSERT INTO quotes (text, author, author_about, tags) VALUES ('“The person, be it gentleman or lady, who has not pleasure in a good novel, must be intolerably stupid.”','Jane Austen','/author/Jane-Austen','aliteracy,books,classic,humor')\n",
      "INSERT INTO quotes (text, author, author_about, tags) VALUES ('“Imperfection is beauty, madness is genius and it's better to be absolutely ridiculous than absolutely boring.”','Marilyn Monroe','/author/Marilyn-Monroe','be-yourself,inspirational')\n",
      "INSERT INTO quotes (text, author, author_about, tags) VALUES ('“Try not to become a man of success. Rather become a man of value.”','Albert Einstein','/author/Albert-Einstein','adulthood,success,value')\n",
      "INSERT INTO quotes (text, author, author_about, tags) VALUES ('“It is better to be hated for what you are than to be loved for what you are not.”','André Gide','/author/Andre-Gide','life,love')\n",
      "INSERT INTO quotes (text, author, author_about, tags) VALUES ('“I have not failed. I've just found 10,000 ways that won't work.”','Thomas A. Edison','/author/Thomas-A-Edison','edison,failure,inspirational,paraphrased')\n",
      "INSERT INTO quotes (text, author, author_about, tags) VALUES ('“A woman is like a tea bag; you never know how strong it is until it's in hot water.”','Eleanor Roosevelt','/author/Eleanor-Roosevelt','misattributed-eleanor-roosevelt')\n",
      "INSERT INTO quotes (text, author, author_about, tags) VALUES ('“A day without sunshine is like, you know, night.”','Steve Martin','/author/Steve-Martin','humor,obvious,simile')\n"
     ]
    }
   ],
   "source": [
    "for quote in quotes:\n",
    "    query = createQuery(quote)\n",
    "    print(query)\n",
    "#     cur.execute(query)\n",
    "    \n",
    "# conn.commit()"
   ]
  },
  {
   "cell_type": "code",
   "execution_count": null,
   "metadata": {},
   "outputs": [],
   "source": []
  }
 ],
 "metadata": {
  "kernelspec": {
   "display_name": "Python 3",
   "language": "python",
   "name": "python3"
  },
  "language_info": {
   "codemirror_mode": {
    "name": "ipython",
    "version": 3
   },
   "file_extension": ".py",
   "mimetype": "text/x-python",
   "name": "python",
   "nbconvert_exporter": "python",
   "pygments_lexer": "ipython3",
   "version": "3.7.5"
  }
 },
 "nbformat": 4,
 "nbformat_minor": 2
}
